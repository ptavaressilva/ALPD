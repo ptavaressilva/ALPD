{
 "cells": [
  {
   "cell_type": "markdown",
   "id": "aa7cae69",
   "metadata": {},
   "source": [
    "This notebook creates 3 images from each frame in the '/frames' folder"
   ]
  },
  {
   "cell_type": "code",
   "execution_count": 1,
   "id": "f2c41d97",
   "metadata": {},
   "outputs": [],
   "source": [
    "from PIL import Image\n",
    "import os"
   ]
  },
  {
   "cell_type": "code",
   "execution_count": 2,
   "id": "45e0f96c",
   "metadata": {},
   "outputs": [],
   "source": [
    "def create_images(input_path, output_path):\n",
    "    files = os.listdir(input_path) # list images in input path\n",
    "    \n",
    "    if ('.DS_Store' in files):\n",
    "        files.remove('.DS_Store')\n",
    "    \n",
    "    counter = 0\n",
    "    len_files = len(files)\n",
    "    for file_name in files:\n",
    "        # for each image, save three 640x640 images\n",
    "        \n",
    "        counter += 1\n",
    "        print('\\rProcessing file {} of {} ({:.0%})'.format(counter, len_files, counter/len_files), end='')\n",
    "        \n",
    "        with open(input_path + '/' + file_name, 'rb') as file:\n",
    "            im = Image.open(file)\n",
    "\n",
    "            width, height = im.size\n",
    "            new_width = int(640 * width/height)\n",
    "            new_height = 640\n",
    "            margin = int((new_width - new_height)/2)\n",
    "            \n",
    "            im = im.resize((new_width, new_height))\n",
    "            \n",
    "            # center crop\n",
    "            (left, upper, right, lower) = (margin, 0, new_height + margin, new_height)\n",
    "            center_crop = im.crop((left, upper, right, lower))\n",
    "\n",
    "            # left crop\n",
    "            (left, upper, right, lower) = (0, 0, new_height, new_height)\n",
    "            left_crop = im.crop((left, upper, right, lower))\n",
    "\n",
    "            # right crop\n",
    "            (left, upper, right, lower) = (2*margin, 0, new_width, new_height)\n",
    "            right_crop = im.crop((left, upper, right, lower))\n",
    "\n",
    "            with open(output_path + '/C_' + file_name, 'wb') as center_file:\n",
    "                center_crop.save(center_file)\n",
    "            with open(output_path + '/L_' + file_name, 'wb') as left_file:\n",
    "                left_crop.save(left_file)\n",
    "            with open(output_path + '/R_' + file_name, 'wb') as right_file:\n",
    "                right_crop.save(right_file)"
   ]
  },
  {
   "cell_type": "code",
   "execution_count": 3,
   "id": "6d6a5985",
   "metadata": {},
   "outputs": [
    {
     "name": "stdout",
     "output_type": "stream",
     "text": [
      "Processing file 954 of 954 (100%)"
     ]
    }
   ],
   "source": [
    "input_path = 'data/frames/train'\n",
    "output_path = 'data/label_studio_in/train'\n",
    "create_images(input_path, output_path)"
   ]
  },
  {
   "cell_type": "code",
   "execution_count": 4,
   "id": "9f697b23",
   "metadata": {},
   "outputs": [
    {
     "name": "stdout",
     "output_type": "stream",
     "text": [
      "Processing file 190 of 190 (100%)"
     ]
    }
   ],
   "source": [
    "input_path = 'data/frames/validate'\n",
    "output_path = 'data/label_studio_in/validate'\n",
    "create_images(input_path, output_path)"
   ]
  }
 ],
 "metadata": {
  "kernelspec": {
   "display_name": "Python 3 (ipykernel)",
   "language": "python",
   "name": "python3"
  },
  "language_info": {
   "codemirror_mode": {
    "name": "ipython",
    "version": 3
   },
   "file_extension": ".py",
   "mimetype": "text/x-python",
   "name": "python",
   "nbconvert_exporter": "python",
   "pygments_lexer": "ipython3",
   "version": "3.7.10"
  }
 },
 "nbformat": 4,
 "nbformat_minor": 5
}

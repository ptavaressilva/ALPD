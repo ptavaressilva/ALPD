{
 "cells": [
  {
   "cell_type": "code",
   "execution_count": 2,
   "id": "588d5b2b",
   "metadata": {},
   "outputs": [],
   "source": [
    "import cv2"
   ]
  },
  {
   "cell_type": "code",
   "execution_count": 3,
   "id": "689d56e7",
   "metadata": {},
   "outputs": [
    {
     "name": "stdout",
     "output_type": "stream",
     "text": [
      "IMG_1740.MOV IMG_1747.MOV IMG_1754.MOV IMG_1761.MOV IMG_1768.MOV IMG_1775.MOV\r\n",
      "IMG_1741.MOV IMG_1748.MOV IMG_1755.MOV IMG_1762.MOV IMG_1769.MOV IMG_1776.MOV\r\n",
      "IMG_1742.MOV IMG_1749.MOV IMG_1756.MOV IMG_1763.MOV IMG_1770.MOV IMG_1777.MOV\r\n",
      "IMG_1743.MOV IMG_1750.MOV IMG_1757.MOV IMG_1764.MOV IMG_1771.MOV\r\n",
      "IMG_1744.MOV IMG_1751.MOV IMG_1758.MOV IMG_1765.MOV IMG_1772.MOV\r\n",
      "IMG_1745.MOV IMG_1752.MOV IMG_1759.MOV IMG_1766.MOV IMG_1773.MOV\r\n",
      "IMG_1746.MOV IMG_1753.MOV IMG_1760.MOV IMG_1767.MOV IMG_1774.MOV\r\n"
     ]
    }
   ],
   "source": [
    "!ls raw"
   ]
  },
  {
   "cell_type": "code",
   "execution_count": 4,
   "id": "18f6d4c6",
   "metadata": {},
   "outputs": [],
   "source": [
    "video = cv2.VideoCapture('data/raw/IMG_1740.MOV')"
   ]
  },
  {
   "cell_type": "code",
   "execution_count": 5,
   "id": "6ba89163",
   "metadata": {},
   "outputs": [
    {
     "name": "stdout",
     "output_type": "stream",
     "text": [
      "frames per second = 30.003496911061895\n"
     ]
    }
   ],
   "source": [
    "fps = video.get(cv2.CAP_PROP_FPS)\n",
    "print('frames per second =',fps)"
   ]
  },
  {
   "cell_type": "code",
   "execution_count": 6,
   "id": "23e69bb2",
   "metadata": {},
   "outputs": [
    {
     "name": "stdout",
     "output_type": "stream",
     "text": [
      "frame id = 0\n"
     ]
    }
   ],
   "source": [
    "minutes = 0\n",
    "seconds = 0\n",
    "frame_id = int(fps*(minutes*60 + seconds))\n",
    "print('frame id =',frame_id)"
   ]
  },
  {
   "cell_type": "code",
   "execution_count": 7,
   "id": "86ae4ec6",
   "metadata": {},
   "outputs": [],
   "source": [
    "# CAP_PROP_POS_FRAMES refers to the current frame position\n",
    "video.set(cv2.CAP_PROP_POS_FRAMES, frame_id)\n",
    "ret, frame = video.read()"
   ]
  },
  {
   "cell_type": "code",
   "execution_count": 12,
   "id": "34894c6c",
   "metadata": {},
   "outputs": [],
   "source": [
    "# opens image on separate window for \n",
    "cv2.imshow('frame', frame)\n",
    "k = cv2.waitKey(10000) # miliseconds"
   ]
  },
  {
   "cell_type": "code",
   "execution_count": 13,
   "id": "6fdaa766",
   "metadata": {},
   "outputs": [
    {
     "data": {
      "text/plain": [
       "True"
      ]
     },
     "execution_count": 13,
     "metadata": {},
     "output_type": "execute_result"
    }
   ],
   "source": [
    "cv2.imwrite('data/frames/test.png', frame)"
   ]
  },
  {
   "cell_type": "code",
   "execution_count": 18,
   "id": "751a49d3",
   "metadata": {},
   "outputs": [
    {
     "name": "stdout",
     "output_type": "stream",
     "text": [
      "CAP_PROP_FRAME_WIDTH: 3840.0 Width of the frames in the video stream.\n",
      "CAP_PROP_FRAME_HEIGHT: 2160.0 Height of the frames in the video stream.\n",
      "CAP_PROP_FPS : 30.003496911061895 fps\n",
      "CAP_PROP_FRAME_COUNT: 429.0 frames in video\n"
     ]
    }
   ],
   "source": [
    "print('CAP_PROP_FRAME_WIDTH: {} Width of the frames in the video stream.'.format(video.get(cv2.CAP_PROP_FRAME_WIDTH)))\n",
    "print('CAP_PROP_FRAME_HEIGHT: {} Height of the frames in the video stream.'.format(video.get(cv2.CAP_PROP_FRAME_HEIGHT)))\n",
    "print('CAP_PROP_FPS : {} fps'.format(video.get(cv2.CAP_PROP_FPS)))\n",
    "print('CAP_PROP_FRAME_COUNT: {} frames in video'.format(video.get(cv2.CAP_PROP_FRAME_COUNT)))\n"
   ]
  },
  {
   "cell_type": "markdown",
   "id": "5b98381d",
   "metadata": {},
   "source": [
    "# Save a frame every second, with train / validate split"
   ]
  },
  {
   "cell_type": "code",
   "execution_count": 22,
   "id": "33b797c0",
   "metadata": {},
   "outputs": [],
   "source": [
    "files = os.listdir('raw')"
   ]
  },
  {
   "cell_type": "code",
   "execution_count": 45,
   "id": "a846b7da",
   "metadata": {},
   "outputs": [
    {
     "name": "stdout",
     "output_type": "stream",
     "text": [
      "Processing IMG_1770.MOV for train\n",
      "Video has 2833 frames shot at 29 fps\n",
      "  Saving frame 2813 of 2833Processing IMG_1764.MOV for train\n",
      "Video has 1270 frames shot at 29 fps\n",
      "  Saving frame 1247 of 1270Processing IMG_1758.MOV for train\n",
      "Video has 1631 frames shot at 29 fps\n",
      "  Saving frame 1624 of 1631Processing IMG_1759.MOV for train\n",
      "Video has 2764 frames shot at 29 fps\n",
      "  Saving frame 2755 of 2764Processing IMG_1765.MOV for validate\n",
      "Video has 1016 frames shot at 29 fps\n",
      "  Saving frame 1015 of 1016Processing IMG_1771.MOV for train\n",
      "Video has 249 frames shot at 29 fps\n",
      "  Saving frame 232 of 249Processing IMG_1767.MOV for train\n",
      "Video has 1152 frames shot at 29 fps\n",
      "  Saving frame 1131 of 1152Processing IMG_1773.MOV for train\n",
      "Video has 409 frames shot at 29 fps\n",
      "  Saving frame 406 of 409Processing IMG_1772.MOV for train\n",
      "Video has 1775 frames shot at 29 fps\n",
      "  Saving frame 1769 of 1775Processing IMG_1766.MOV for validate\n",
      "Video has 329 frames shot at 29 fps\n",
      "  Saving frame 319 of 329Processing IMG_1762.MOV for train\n",
      "Video has 2645 frames shot at 29 fps\n",
      "  Saving frame 2639 of 2645Processing IMG_1776.MOV for train\n",
      "Video has 305 frames shot at 29 fps\n",
      "  Saving frame 290 of 305Processing IMG_1777.MOV for train\n",
      "Video has 647 frames shot at 29 fps\n",
      "  Saving frame 638 of 647Processing IMG_1763.MOV for train\n",
      "Video has 949 frames shot at 29 fps\n",
      "  Saving frame 928 of 949Processing IMG_1749.MOV for validate\n",
      "Video has 132 frames shot at 29 fps\n",
      "  Saving frame 116 of 132Processing IMG_1775.MOV for train\n",
      "Video has 608 frames shot at 29 fps\n",
      "  Saving frame 580 of 608Processing IMG_1761.MOV for train\n",
      "Video has 2518 frames shot at 29 fps\n",
      "  Saving frame 2494 of 2518Processing IMG_1760.MOV for train\n",
      "Video has 163 frames shot at 29 fps\n",
      "  Saving frame 145 of 163Processing IMG_1774.MOV for train\n",
      "Video has 241 frames shot at 29 fps\n",
      "  Saving frame 232 of 241Processing IMG_1748.MOV for validate\n",
      "Video has 1135 frames shot at 29 fps\n",
      "  Saving frame 1131 of 1135Processing IMG_1751.MOV for train\n",
      "Video has 2207 frames shot at 29 fps\n",
      "  Saving frame 2204 of 2207Processing IMG_1745.MOV for train\n",
      "Video has 291 frames shot at 29 fps\n",
      "  Saving frame 290 of 291Processing IMG_1744.MOV for train\n",
      "Video has 501 frames shot at 29 fps\n",
      "  Saving frame 493 of 501Processing IMG_1750.MOV for train\n",
      "Video has 246 frames shot at 29 fps\n",
      "  Saving frame 232 of 246Processing IMG_1746.MOV for validate\n",
      "Video has 605 frames shot at 29 fps\n",
      "  Saving frame 580 of 605Processing IMG_1752.MOV for train\n",
      "Video has 1827 frames shot at 29 fps\n",
      "  Saving frame 1798 of 1827Processing IMG_1753.MOV for train\n",
      "Video has 2273 frames shot at 29 fps\n",
      "  Saving frame 2262 of 2273Processing IMG_1747.MOV for train\n",
      "Video has 286 frames shot at 29 fps\n",
      "  Saving frame 261 of 286Processing IMG_1743.MOV for train\n",
      "Video has 2411 frames shot at 30 fps\n",
      "  Saving frame 2400 of 2411Processing IMG_1757.MOV for validate\n",
      "Video has 1767 frames shot at 29 fps\n",
      "  Saving frame 1740 of 1767Processing IMG_1756.MOV for train\n",
      "Video has 538 frames shot at 29 fps\n",
      "  Saving frame 522 of 538Processing IMG_1742.MOV for train\n",
      "Video has 4485 frames shot at 30 fps\n",
      "  Saving frame 4470 of 4485Processing IMG_1768.MOV for train\n",
      "Video has 951 frames shot at 29 fps\n",
      "  Saving frame 928 of 951Processing IMG_1754.MOV for train\n",
      "Video has 210 frames shot at 29 fps\n",
      "  Saving frame 203 of 210Processing IMG_1740.MOV for validate\n",
      "Video has 429 frames shot at 30 fps\n",
      "  Saving frame 420 of 429Processing IMG_1741.MOV for train\n",
      "Video has 1401 frames shot at 30 fps\n",
      "  Saving frame 1380 of 1401Processing IMG_1755.MOV for train\n",
      "Video has 157 frames shot at 29 fps\n",
      "  Saving frame 145 of 157Processing IMG_1769.MOV for train\n",
      "Video has 1772 frames shot at 29 fps\n",
      "  Saving frame 1769 of 1772"
     ]
    }
   ],
   "source": [
    "dataset = 'train'\n",
    "file_count = 0\n",
    "\n",
    "for file in files:\n",
    "    \n",
    "    file_count += 1\n",
    "    if file_count%5 == 0: # every fifth file is used for validation\n",
    "        dataset = 'validate'\n",
    "    else:\n",
    "        dataset = 'train'\n",
    "    print('Processing {} for {}'.format(file, dataset))\n",
    "        \n",
    "    video = cv2.VideoCapture('data/raw/{}'.format(file))\n",
    "    fps = int(video.get(cv2.CAP_PROP_FPS))\n",
    "    print('Video has {} frames shot at {} fps'.format(int(video.get(cv2.CAP_PROP_FRAME_COUNT)), fps))\n",
    "\n",
    "    for i in range(0,int(video.get(cv2.CAP_PROP_FRAME_COUNT)),fps):\n",
    "        print('\\r  Saving frame {} of {}'.format(i,int(video.get(cv2.CAP_PROP_FRAME_COUNT))),end='')\n",
    "        video.set(cv2.CAP_PROP_POS_FRAMES, i)\n",
    "        ret, frame = video.read()\n",
    "        cv2.imwrite('data/frames/{}/{}_{}.png'.format(dataset, file, i), frame)"
   ]
  },
  {
   "cell_type": "code",
   "execution_count": null,
   "id": "375e60ae",
   "metadata": {},
   "outputs": [],
   "source": []
  }
 ],
 "metadata": {
  "kernelspec": {
   "display_name": "Python 3 (ipykernel)",
   "language": "python",
   "name": "python3"
  },
  "language_info": {
   "codemirror_mode": {
    "name": "ipython",
    "version": 3
   },
   "file_extension": ".py",
   "mimetype": "text/x-python",
   "name": "python",
   "nbconvert_exporter": "python",
   "pygments_lexer": "ipython3",
   "version": "3.7.10"
  }
 },
 "nbformat": 4,
 "nbformat_minor": 5
}
